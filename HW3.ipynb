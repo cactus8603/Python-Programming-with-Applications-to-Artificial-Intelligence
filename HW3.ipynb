{
 "cells": [
  {
   "cell_type": "code",
   "execution_count": 5,
   "metadata": {},
   "outputs": [
    {
     "name": "stdout",
     "output_type": "stream",
     "text": [
      "1461\n"
     ]
    }
   ],
   "source": [
    "# P1\n",
    "y1, y2 = [int(x) for x in input(\"Enter the year\").split()]\n",
    "\n",
    "def leap (y1, y2):\n",
    "    day = 0\n",
    "    for y in range(y1, y2+1):\n",
    "        if (y%400 == 0): day += 1\n",
    "        elif (y%100 == 0 and y%400 != 0): day += 0\n",
    "        elif (y%4 == 0 and y%100 != 0): day += 1\n",
    "        elif (y%4 != 0): day += 0\n",
    "    return day\n",
    "leapDay = leap(y1, y2)\n",
    "print(abs(y2-y1+1)*365 + leapDay)\n"
   ]
  },
  {
   "cell_type": "code",
   "execution_count": 12,
   "metadata": {},
   "outputs": [
    {
     "name": "stdout",
     "output_type": "stream",
     "text": [
      "9\n"
     ]
    }
   ],
   "source": [
    "# P2\n",
    "y = []\n",
    "y = [int(x) for x in input(\"Enter the year\").split()]\n",
    "y.sort()\n",
    "print(y[len(y)-1])"
   ]
  },
  {
   "cell_type": "code",
   "execution_count": 23,
   "metadata": {},
   "outputs": [
    {
     "name": "stdout",
     "output_type": "stream",
     "text": [
      "月落烏\n",
      "落烏啼\n",
      "烏啼霜\n",
      "啼霜滿\n",
      "霜滿天\n"
     ]
    }
   ],
   "source": [
    "# P3\n",
    "y = []\n",
    "y, = [str(x) for x in input(\"Enter the year\").split()]\n",
    "for i in range(len(y)-2):\n",
    "    print(y[i:i+3])\n"
   ]
  },
  {
   "cell_type": "code",
   "execution_count": 36,
   "metadata": {},
   "outputs": [
    {
     "name": "stdout",
     "output_type": "stream",
     "text": [
      "50\n",
      "1 2 3 5 7 11 13 17 19 23 29 31 37 41 43 47 "
     ]
    }
   ],
   "source": [
    "# Bonus 1\n",
    "def prime(n):\n",
    "    for i in range(2, n):\n",
    "        if (n%i==0): return False\n",
    "    return True\n",
    "y = [int(x) for x in input(\"Enter the year\").split()]\n",
    "print(y[0])\n",
    "for i in range(1, y[0]):\n",
    "    # print(i)\n",
    "    if (prime(i)==True): print(str(i) + ' ',end='')\n"
   ]
  },
  {
   "cell_type": "code",
   "execution_count": 26,
   "metadata": {},
   "outputs": [
    {
     "name": "stdout",
     "output_type": "stream",
     "text": [
      "Thursday\n"
     ]
    }
   ],
   "source": [
    "# Bonus 3\n",
    "import pandas as pd\n",
    "y, m, d = [int(x) for x in input(\"Enter the year\").split()]\n",
    "time = str(y) + '-' + str(m) + '-' + str(d)\n",
    "date = pd.Timestamp(time)\n",
    "print(date.day_name())\n"
   ]
  }
 ],
 "metadata": {
  "interpreter": {
   "hash": "fbb4051638b47f286441de4465f7c52380af50f275fd781cec2626f8dac0d01a"
  },
  "kernelspec": {
   "display_name": "Python 3.8.5 64-bit",
   "name": "python3"
  },
  "language_info": {
   "codemirror_mode": {
    "name": "ipython",
    "version": 3
   },
   "file_extension": ".py",
   "mimetype": "text/x-python",
   "name": "python",
   "nbconvert_exporter": "python",
   "pygments_lexer": "ipython3",
   "version": "3.8.5"
  },
  "orig_nbformat": 4
 },
 "nbformat": 4,
 "nbformat_minor": 2
}
