{
 "cells": [
  {
   "cell_type": "code",
   "execution_count": 15,
   "metadata": {},
   "outputs": [
    {
     "name": "stdout",
     "output_type": "stream",
     "text": [
      "兩相異實根：-4.561552812808831, -0.4384471871911697\n"
     ]
    }
   ],
   "source": [
    "a, b, c = [float(x) for x in input(\"Enter the value of a, b, c\").split()]\n",
    "D = b**2-4*a*c\n",
    "if (D > 0): print(\"兩相異實根：{}, {}\".format((-b-D**0.5)/(2*a), (-b+D**0.5)/(2*a)))\n",
    "elif(D==0): print(\"重根：{}\".format(-b/(2*a)))\n",
    "elif(D<0): print(\"無解\")"
   ]
  },
  {
   "cell_type": "markdown",
   "metadata": {},
   "source": []
  },
  {
   "cell_type": "code",
   "execution_count": 54,
   "metadata": {},
   "outputs": [
    {
     "name": "stdout",
     "output_type": "stream",
     "text": [
      "平年\n"
     ]
    }
   ],
   "source": [
    "y, = [int(x) for x in input(\"Enter the year\").split()]\n",
    "if (y%400 == 0): print(\"潤年\")\n",
    "elif (y%100 == 0 and y%400 != 0): print(\"平年\")\n",
    "elif (y%4 == 0 and y%100 != 0): print(\"閏年\")\n",
    "elif (y%4 != 0): print(\"平年\")"
   ]
  },
  {
   "cell_type": "code",
   "execution_count": 53,
   "metadata": {},
   "outputs": [
    {
     "name": "stdout",
     "output_type": "stream",
     "text": [
      "9 5 1\n",
      "9 5 1\n",
      "9 5 1 "
     ]
    }
   ],
   "source": [
    "a, b, c = [int(x) for x in input(\"Enter the value of a, b, c\").split()]\n",
    "\n",
    "# 巢狀選擇結構\n",
    "if (a>=b):\n",
    "    if (a>=c): \n",
    "        if (b>=c): print(a,b,c)\n",
    "    elif (a>=c): \n",
    "        if(c>=b): print(a,c,b)\n",
    "    elif (c>a): print(c,a,b)\n",
    "elif (b>=a):\n",
    "    if (c>=b): print(c,b,a)\n",
    "    elif (b>=c and c>a): \n",
    "        if(c>=a): print(b,c,a)\n",
    "    elif (b>=c): \n",
    "        if (a>=c): print(b,a,c)\n",
    "\n",
    "# 複合邏輯條件\n",
    "if (a>=b):\n",
    "    if (a>=c and b>=c): print(a,b,c)\n",
    "    elif (a>=c and c>b): print(a,c,b)\n",
    "    elif (c>=a): print(c,a,b)\n",
    "elif (b>=a):\n",
    "    if (c>=b): print(c,b,a)\n",
    "    elif (b>=c and c>=a): print(b,c,a)\n",
    "    elif (b>=c and a>=c): print(b,a,c)\n",
    "\n",
    "# 特殊排序演算法\n",
    "nums = sorted([a,b,c], reverse=True)\n",
    "for x in nums: print(x, end=' ')\n"
   ]
  }
 ],
 "metadata": {
  "interpreter": {
   "hash": "22d5c20a1b456e288029bdd4e2ac511fa723c5df4b531a6de197a9a240aa149f"
  },
  "kernelspec": {
   "display_name": "Python 3.8.10 64-bit (windows store)",
   "name": "python3"
  },
  "language_info": {
   "codemirror_mode": {
    "name": "ipython",
    "version": 3
   },
   "file_extension": ".py",
   "mimetype": "text/x-python",
   "name": "python",
   "nbconvert_exporter": "python",
   "pygments_lexer": "ipython3",
   "version": "3.8.10"
  },
  "orig_nbformat": 4
 },
 "nbformat": 4,
 "nbformat_minor": 2
}
