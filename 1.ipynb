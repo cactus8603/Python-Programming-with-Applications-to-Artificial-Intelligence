{
 "cells": [
  {
   "cell_type": "code",
   "execution_count": 5,
   "metadata": {},
   "outputs": [
    {
     "name": "stdout",
     "output_type": "stream",
     "text": [
      "4呎11吋\n"
     ]
    }
   ],
   "source": [
    "h, = [float(x) for x in input(\"Enter a height\").split()]\n",
    "m = int(h/30.48)\n",
    "n = int((h-m*30.48)/2.54)\n",
    "print(\"{}呎{}吋\".format(m, n))"
   ]
  },
  {
   "cell_type": "code",
   "execution_count": 14,
   "metadata": {},
   "outputs": [
    {
     "name": "stdout",
     "output_type": "stream",
     "text": [
      "11時11分11秒\n"
     ]
    }
   ],
   "source": [
    "h1, m1, s1, h2, m2, s2 = [int(x) for x in input(\"輸入 h1 時 m1 分 s1 秒，h2 時 m2 分 s2 秒\").split()]\n",
    "time = (h2-h1)*3600 + (m2-m1)*60 + (s2-s1)\n",
    "h = int(time/3600)\n",
    "m = int((time-h*3600)/60)\n",
    "s = time-h*3600-m*60\n",
    "print(\"{}時{}分{}秒\".format(h,m,s))"
   ]
  },
  {
   "cell_type": "code",
   "execution_count": 15,
   "metadata": {},
   "outputs": [
    {
     "name": "stdout",
     "output_type": "stream",
     "text": [
      "90元\n"
     ]
    }
   ],
   "source": [
    "h1, m1, s1, h2, m2, s2 = [int(x) for x in input(\"輸入 h1 時 m1 分 s1 秒，h2 時 m2 分 s2 秒\").split()]\n",
    "time = (h2-h1)*60 + (m2-m1) + (s2-s1)/60\n",
    "if (time<=30): print(\"50\")\n",
    "else: \n",
    "    time = time-30\n",
    "    if (time%30 == 0): print(\"{}元\".format(int(time/30)*40 + 50))\n",
    "    elif (time%30 != 0): print(\"{}元\".format(int(time/30 +1)*40 + 50))\n",
    "\n"
   ]
  }
 ],
 "metadata": {
  "interpreter": {
   "hash": "22d5c20a1b456e288029bdd4e2ac511fa723c5df4b531a6de197a9a240aa149f"
  },
  "kernelspec": {
   "display_name": "Python 3.8.10 64-bit (windows store)",
   "name": "python3"
  },
  "language_info": {
   "codemirror_mode": {
    "name": "ipython",
    "version": 3
   },
   "file_extension": ".py",
   "mimetype": "text/x-python",
   "name": "python",
   "nbconvert_exporter": "python",
   "pygments_lexer": "ipython3",
   "version": "3.8.10"
  },
  "orig_nbformat": 4
 },
 "nbformat": 4,
 "nbformat_minor": 2
}
