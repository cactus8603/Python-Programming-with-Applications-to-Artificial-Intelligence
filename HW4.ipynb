{
 "cells": [
  {
   "cell_type": "code",
   "execution_count": 56,
   "metadata": {},
   "outputs": [],
   "source": [
    "# read file\n",
    "data = []\n",
    "with open(\"三國演義.txt\", \"r+\", errors=\"ignore\") as f:\n",
    "    data = f.readlines()\n",
    "    \n",
    "    # print(data[74])\n",
    "for row in range(75,125):\n",
    "    data[row] = \"\\t\" + data[row].strip() + \"\\n\"\n",
    "    \n",
    "    ind = 1\n",
    "    while(ind):\n",
    "        ind = data[row].find(\"。\")\n",
    "        if (data[row][ind+1] != \"」\"): \n",
    "            data[row] = data[row][ind:] + \"\\n\\t\" + data[row][:ind]\n",
    "            print(data[row])\n",
    "    \n",
    "\n",
    "with open(\"output.txt\", \"w+\") as f:\n",
    "    f.writelines(data)"
   ]
  }
 ],
 "metadata": {
  "interpreter": {
   "hash": "22d5c20a1b456e288029bdd4e2ac511fa723c5df4b531a6de197a9a240aa149f"
  },
  "kernelspec": {
   "display_name": "Python 3.8.10 64-bit (windows store)",
   "language": "python",
   "name": "python3"
  },
  "language_info": {
   "codemirror_mode": {
    "name": "ipython",
    "version": 3
   },
   "file_extension": ".py",
   "mimetype": "text/x-python",
   "name": "python",
   "nbconvert_exporter": "python",
   "pygments_lexer": "ipython3",
   "version": "3.8.10"
  },
  "orig_nbformat": 4
 },
 "nbformat": 4,
 "nbformat_minor": 2
}
