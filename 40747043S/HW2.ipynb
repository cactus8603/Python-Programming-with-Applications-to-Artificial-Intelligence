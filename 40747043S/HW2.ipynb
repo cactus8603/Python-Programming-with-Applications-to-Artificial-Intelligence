{
 "cells": [
  {
   "cell_type": "code",
   "execution_count": 15,
   "source": [
    "a, b, c = [float(x) for x in input(\"Enter the value of a, b, c\").split()]\r\n",
    "D = b**2-4*a*c\r\n",
    "if (D > 0): print(\"兩相異實根：{}, {}\".format((-b-D**0.5)/(2*a), (-b+D**0.5)/(2*a)))\r\n",
    "elif(D==0): print(\"重根：{}\".format(-b/(2*a)))\r\n",
    "elif(D<0): print(\"無解\")"
   ],
   "outputs": [
    {
     "output_type": "stream",
     "name": "stdout",
     "text": [
      "兩相異實根：-4.561552812808831, -0.4384471871911697\n"
     ]
    }
   ],
   "metadata": {}
  },
  {
   "cell_type": "markdown",
   "source": [],
   "metadata": {}
  },
  {
   "cell_type": "code",
   "execution_count": 54,
   "source": [
    "y, = [int(x) for x in input(\"Enter the year\").split()]\r\n",
    "if (y%400 == 0): print(\"潤年\")\r\n",
    "elif (y%100 == 0 and y%400 != 0): print(\"平年\")\r\n",
    "elif (y%4 == 0 and y%100 != 0): print(\"閏年\")\r\n",
    "elif (y%4 != 0): print(\"平年\")"
   ],
   "outputs": [
    {
     "output_type": "stream",
     "name": "stdout",
     "text": [
      "平年\n"
     ]
    }
   ],
   "metadata": {}
  },
  {
   "cell_type": "code",
   "execution_count": 53,
   "source": [
    "a, b, c = [int(x) for x in input(\"Enter the value of a, b, c\").split()]\r\n",
    "\r\n",
    "# 巢狀選擇結構\r\n",
    "if (a>=b):\r\n",
    "    if (a>=c): \r\n",
    "        if (b>=c): print(a,b,c)\r\n",
    "    elif (a>=c): \r\n",
    "        if(c>=b): print(a,c,b)\r\n",
    "    elif (c>a): print(c,a,b)\r\n",
    "elif (b>=a):\r\n",
    "    if (c>=b): print(c,b,a)\r\n",
    "    elif (b>=c and c>a): \r\n",
    "        if(c>=a): print(b,c,a)\r\n",
    "    elif (b>=c): \r\n",
    "        if (a>=c): print(b,a,c)\r\n",
    "\r\n",
    "# 複合邏輯條件\r\n",
    "if (a>=b):\r\n",
    "    if (a>=c and b>=c): print(a,b,c)\r\n",
    "    elif (a>=c and c>b): print(a,c,b)\r\n",
    "    elif (c>=a): print(c,a,b)\r\n",
    "elif (b>=a):\r\n",
    "    if (c>=b): print(c,b,a)\r\n",
    "    elif (b>=c and c>=a): print(b,c,a)\r\n",
    "    elif (b>=c and a>=c): print(b,a,c)\r\n",
    "\r\n",
    "# 特殊排序演算法\r\n",
    "nums = sorted([a,b,c], reverse=True)\r\n",
    "for x in nums: print(x, end=' ')\r\n"
   ],
   "outputs": [
    {
     "output_type": "stream",
     "name": "stdout",
     "text": [
      "9 5 1\n",
      "9 5 1\n",
      "9 5 1 "
     ]
    }
   ],
   "metadata": {}
  },
  {
   "cell_type": "code",
   "execution_count": 10,
   "source": [
    "def area(x1,y1,x2,y2,x3,y3):\r\n",
    "    return 0.5*abs(x1*(y2-y3) + x2*(y3-y1) + x3*(y1-y2))\r\n",
    "x1,y1,x2,y2,x3,y3 = [float(x) for x in input(\"請輸入三角形三個點的X,Y座標(x1,y1,x2,y2,x3,y3)\").split()]\r\n",
    "px, py = [float(x) for x in input(\"請輸入第四個點的X,Y座標(x,y)\").split()]\r\n",
    "print(\"該點位於三角形內\") if (area(x1,y1,x2,y2,x3,y3) == area(px,py,x2,y2,x3,y3) + area(x1,y1,px,py,x3,y3) + area(x1,y1,x2,y2,px,py)) else print(\"該點位於三角形外\")"
   ],
   "outputs": [
    {
     "output_type": "stream",
     "name": "stdout",
     "text": [
      "該點位於三角形內\n"
     ]
    }
   ],
   "metadata": {}
  }
 ],
 "metadata": {
  "interpreter": {
   "hash": "fbb4051638b47f286441de4465f7c52380af50f275fd781cec2626f8dac0d01a"
  },
  "kernelspec": {
   "name": "python3",
   "display_name": "Python 3.8.5 64-bit"
  },
  "language_info": {
   "codemirror_mode": {
    "name": "ipython",
    "version": 3
   },
   "file_extension": ".py",
   "mimetype": "text/x-python",
   "name": "python",
   "nbconvert_exporter": "python",
   "pygments_lexer": "ipython3",
   "version": "3.8.5"
  },
  "orig_nbformat": 4
 },
 "nbformat": 4,
 "nbformat_minor": 2
}